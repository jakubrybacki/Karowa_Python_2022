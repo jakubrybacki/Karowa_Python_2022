{
 "cells": [
  {
   "cell_type": "markdown",
   "metadata": {
    "id": "OYMkHMWVz6gs"
   },
   "source": [
    "### Zadanie 1 - Stopwords\n",
    "Ten zestaw zadań ma przećwiczyć pracę z plikami i jednocześnie pokazać trochę pracę przy wykorzystaniu tekstów. Do ćwiczeń potrzebny będzie pakiet nltk - prawdopodobnie jest w systemie, jak nie warto wykonać komendę poniżej:"
   ]
  },
  {
   "cell_type": "code",
   "execution_count": 1,
   "metadata": {
    "id": "SrSy-jfDzta6"
   },
   "outputs": [
    {
     "name": "stdout",
     "output_type": "stream",
     "text": [
      "Requirement already satisfied: nltk in c:\\programdata\\anaconda3\\lib\\site-packages (3.6.5)\n",
      "Requirement already satisfied: click in c:\\programdata\\anaconda3\\lib\\site-packages (from nltk) (8.0.3)\n",
      "Requirement already satisfied: joblib in c:\\programdata\\anaconda3\\lib\\site-packages (from nltk) (1.1.0)\n",
      "Requirement already satisfied: regex>=2021.8.3 in c:\\programdata\\anaconda3\\lib\\site-packages (from nltk) (2021.8.3)\n",
      "Requirement already satisfied: tqdm in c:\\programdata\\anaconda3\\lib\\site-packages (from nltk) (4.62.3)\n",
      "Requirement already satisfied: colorama in c:\\programdata\\anaconda3\\lib\\site-packages (from click->nltk) (0.4.4)\n",
      "Note: you may need to restart the kernel to use updated packages.\n"
     ]
    }
   ],
   "source": [
    "pip install nltk "
   ]
  },
  {
   "cell_type": "markdown",
   "metadata": {
    "id": "cz4MYfYBzpm4"
   },
   "source": [
    "Pierwszym krokiem w analizie tekstów jest usunięcie słów, które nic nie wnoszą do jego treści - są to tzw. *stopwords*. Dla języka angielskiego będa to np. *the*, *must*, *an* etc. \n",
    "\n",
    "Listy takich słów zbierane są w odpowiednich słownikach - aby pobrać anglojęzyczny zestaw uruchomimy następującą komendę:\n",
    "\n",
    "\n",
    "\n"
   ]
  },
  {
   "cell_type": "code",
   "execution_count": 2,
   "metadata": {
    "id": "Km7e9NhC1Wsf"
   },
   "outputs": [
    {
     "name": "stderr",
     "output_type": "stream",
     "text": [
      "[nltk_data] Downloading package stopwords to\n",
      "[nltk_data]     C:\\Users\\Jakub\\AppData\\Roaming\\nltk_data...\n",
      "[nltk_data]   Unzipping corpora\\stopwords.zip.\n"
     ]
    },
    {
     "data": {
      "text/plain": [
       "True"
      ]
     },
     "execution_count": 2,
     "metadata": {},
     "output_type": "execute_result"
    }
   ],
   "source": [
    "import nltk\n",
    "nltk.download('stopwords')\n"
   ]
  },
  {
   "cell_type": "markdown",
   "metadata": {
    "id": "Wok0jWgm1zoU"
   },
   "source": [
    "W tym momencie rozpoczyna się nasze właściwe ćwiczenie. W kodzie na dole została pobrana lista słów oraz zapisana do zbioru *en_stops*.\n",
    "\n",
    "Napisz pętle, która sprawdzi czy poszczególne elementy listy *all_worlds* znajdują się w zbiorze *en_stops*. Jeżeli tak niech zostaną wydrukowane.\n",
    "\n",
    "**Podpowiedź:** zadanie można zrobić w dwóch linijkach kodu. "
   ]
  },
  {
   "cell_type": "code",
   "execution_count": 4,
   "metadata": {
    "id": "vRJD10B4zAlX"
   },
   "outputs": [
    {
     "name": "stdout",
     "output_type": "stream",
     "text": [
      "There tree near river\n"
     ]
    }
   ],
   "source": [
    "from nltk.corpus import stopwords\n",
    "en_stops = set(stopwords.words('english'))\n",
    "\n",
    "all_words = ['There', 'is', 'a', 'tree','near','the','river']\n",
    "\n",
    "final_words = [element for element in all_words if element not in en_stops]\n",
    "print(*final_words)"
   ]
  },
  {
   "cell_type": "markdown",
   "metadata": {
    "id": "E9aLTz473Rdm"
   },
   "source": [
    "### Zadanie 2 - Stopwords w pliku\n",
    "W następnym zadaniu usuniemy *stopwords* z pliku.\n",
    "\n",
    "Napiszmy program, który wykona następujące czynności: \n",
    "* Otworzy plik manifestu Pythona oraz wczyta jego zawartość do zmiennej string\n",
    "* Zamieni wszystkie znaki końca linii (\"\\n\") na spacje (\" \").\n",
    "* Przetworzy zmienną string do listy za pomocą metody *split*.\n",
    "* Stowrzy nową listę w kórej zapisane zostaną wyrazy po usunięciu *stopwords* w podobnej pętli jak w zadaniu 1\n",
    "* Wydrukuje liczbę elementów obydwu list."
   ]
  },
  {
   "cell_type": "code",
   "execution_count": 9,
   "metadata": {
    "id": "xM3E2ILp3R14"
   },
   "outputs": [
    {
     "name": "stdout",
     "output_type": "stream",
     "text": [
      "241\n",
      "171\n",
      "0.7095435684647303\n"
     ]
    }
   ],
   "source": [
    "adres = r'E:\\GitHub\\Karowa_Python_Introduction\\Zajecia 9'\n",
    "adres = adres + '\\\\' \n",
    "plik = \"pep-0020.txt\"\n",
    "\n",
    "# Praca z plikiem - wczytanie danych \n",
    "f = open(adres + plik)\n",
    "tekst_string = f.read()\n",
    "f.close()\n",
    "\n",
    "# \n",
    "tekst_string = tekst_string.replace(\"\\n\", \" \")\n",
    "list_pelnyTekst = tekst_string.split()\n",
    "print(len(list_pelnyTekst))\n",
    "\n",
    "# Petla z zadania 1\n",
    "final_words = [element for element in list_pelnyTekst if element not in en_stops]\n",
    "print(len(final_words))\n",
    "\n",
    "print(len(final_words)/len(list_pelnyTekst))\n"
   ]
  },
  {
   "cell_type": "markdown",
   "metadata": {
    "id": "-F27UFwj5PiL"
   },
   "source": [
    "### Zadanie 3 - Stemming\n",
    "Kolejnym krokiem w analizie tekstów jest przetworzenie wyrazów o analogicznym znaczeniu, występujących w różnych czasach do jednego słowa. Funkcja która to wykonuja nazywa się *Stemmer*.\n",
    "\n",
    "Przykład zastosowania takiej metody poniżej: \n",
    "* CONNECTIONS -> CONNECT\n",
    "* CONNECTED -> CONNECT\n",
    "* CONNECTING -> CONNECT\n",
    "* CONNECTION -> CONNECT\n",
    "\n",
    "Poniżej znajduje się kod który przypisuje taką funkcję do obiektu *englishStemmer* oraz wykonuje *stemming* dla słowa *having*. Prośba o jej wykonanie."
   ]
  },
  {
   "cell_type": "code",
   "execution_count": 10,
   "metadata": {
    "id": "Ssl5KCEF5P1m"
   },
   "outputs": [
    {
     "data": {
      "text/plain": [
       "'have'"
      ]
     },
     "execution_count": 10,
     "metadata": {},
     "output_type": "execute_result"
    }
   ],
   "source": [
    "from nltk.stem.snowball import SnowballStemmer\n",
    "\n",
    "englishStemmer = SnowballStemmer(\"english\")\n",
    "englishStemmer.stem(\"having\")"
   ]
  },
  {
   "cell_type": "markdown",
   "metadata": {
    "id": "Qe_blgLO9IXm"
   },
   "source": [
    "Teraz napisz program który wykona *stemming* dla wszystkich słów z listy *wordsToStem*"
   ]
  },
  {
   "cell_type": "code",
   "execution_count": 11,
   "metadata": {
    "id": "JItqIKr19Im9"
   },
   "outputs": [
    {
     "name": "stdout",
     "output_type": "stream",
     "text": [
      "['inflationari', 'inflat', 'inflat', 'connect', 'connect']\n"
     ]
    }
   ],
   "source": [
    "wordsToStem = [\"inflationary\", \"inflated\", \"inflating\", \"connections\", \"connected\"]\n",
    "stemeedWords = [englishStemmer.stem(element) for element in wordsToStem]\n",
    "print(stemeedWords)"
   ]
  },
  {
   "cell_type": "markdown",
   "metadata": {
    "id": "gqkA9sFQ-RGj"
   },
   "source": [
    "### Zadanie 4 - Stemming z pliku\n",
    "Zlicz występowanie poszczególnych wyrazów w manifeście Pythona z zadania 2. \n",
    "\n",
    "Następnie stwórz drugą listę, gdzie przeprowadzisz *stemming* na poszczególnych wyrazach. \n",
    "\n",
    "Zlicz ponownie wyrazy. Czy widoczne sa jakieś większe różnice?"
   ]
  },
  {
   "cell_type": "code",
   "execution_count": 16,
   "metadata": {
    "id": "CyPnOu57-TVU"
   },
   "outputs": [
    {
     "name": "stdout",
     "output_type": "stream",
     "text": [
      "178\n",
      "168\n"
     ]
    }
   ],
   "source": [
    "#list_pelnyTekst\n",
    "\n",
    "slownik_wyrazow = {}\n",
    "# Pętla iteruje po wszystkich wyrazach z listy\n",
    "for element in list_pelnyTekst:\n",
    "\n",
    "  # Każdy wyraz jest sprawdzany pod kątem wystapienia w słowniku\n",
    "  if element in slownik_wyrazow:\n",
    "     # Jeżeli element był - liczba jego wystąpień jest powiększana o 1 \n",
    "     slownik_wyrazow[element] += 1\n",
    "  else:\n",
    "    # Jeżeli nie - ta linijka inicjuje nowy element z wartością 1\n",
    "    slownik_wyrazow[element] = 1\n",
    "    \n",
    "#print(slownik_wyrazow)\n",
    "print(len(slownik_wyrazow))\n",
    "\n",
    "# Petla z zadania 3\n",
    "stemeedWords = [englishStemmer.stem(element) for element in list_pelnyTekst]\n",
    "\n",
    "slownik_wyrazow2 = {}\n",
    "# Pętla iteruje po wszystkich wyrazach z listy\n",
    "for element in stemeedWords:\n",
    "\n",
    "  # Każdy wyraz jest sprawdzany pod kątem wystapienia w słowniku\n",
    "  if element in slownik_wyrazow2:\n",
    "     # Jeżeli element był - liczba jego wystąpień jest powiększana o 1 \n",
    "     slownik_wyrazow2[element] += 1\n",
    "  else:\n",
    "    # Jeżeli nie - ta linijka inicjuje nowy element z wartością 1\n",
    "    slownik_wyrazow2[element] = 1\n",
    "    \n",
    "#print(slownik_wyrazow2)\n",
    "print(len(slownik_wyrazow2))\n"
   ]
  }
 ],
 "metadata": {
  "colab": {
   "authorship_tag": "ABX9TyOGbORzu8QSFfasnnmDByVc",
   "collapsed_sections": [],
   "name": "Zajecia9_Refresher.ipynb",
   "provenance": []
  },
  "kernelspec": {
   "display_name": "Python 3 (ipykernel)",
   "language": "python",
   "name": "python3"
  },
  "language_info": {
   "codemirror_mode": {
    "name": "ipython",
    "version": 3
   },
   "file_extension": ".py",
   "mimetype": "text/x-python",
   "name": "python",
   "nbconvert_exporter": "python",
   "pygments_lexer": "ipython3",
   "version": "3.8.12"
  }
 },
 "nbformat": 4,
 "nbformat_minor": 4
}
